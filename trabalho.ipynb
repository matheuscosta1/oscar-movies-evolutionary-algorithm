{
  "nbformat": 4,
  "nbformat_minor": 0,
  "metadata": {
    "colab": {
      "name": "Trabalho - CE.ipynb",
      "provenance": [],
      "collapsed_sections": []
    },
    "kernelspec": {
      "display_name": "Python 3",
      "name": "python3"
    },
    "language_info": {
      "name": "python"
    }
  },
  "cells": [
    {
      "cell_type": "markdown",
      "metadata": {
        "id": "riFgXnxceN0O"
      },
      "source": [
        "# Imports"
      ]
    },
    {
      "cell_type": "code",
      "metadata": {
        "id": "wnUishlDEUYy"
      },
      "source": [
        "from typing import List, Tuple\n",
        "from tabulate import tabulate\n",
        "from functools import reduce\n",
        "import numpy as np\n",
        "import random\n",
        "from datetime import datetime"
      ],
      "execution_count": null,
      "outputs": []
    },
    {
      "cell_type": "markdown",
      "metadata": {
        "id": "DauOjk_gbBiH"
      },
      "source": [
        "# Overview"
      ]
    },
    {
      "cell_type": "markdown",
      "metadata": {
        "id": "zsoOhFuzMNcv"
      },
      "source": [
        "# Algorithm\n",
        "```\n",
        "definição população\n",
        "melhor_global = 0\n",
        "laço\n",
        "    eval_pop, melhor, pior1, pior2 = avaliação da população\n",
        "    \n",
        "    algum em eval_pop é melhor que o melhor_global:\n",
        "        melhor_global <= melhor dentro dos valores de eval_pop\n",
        "\n",
        "    filho1, filho2 <= offspring(pop, eval_pop)\n",
        "\n",
        "    pior1 é substituido por filho1\n",
        "    pior2 é substituido por filho2\n",
        "\n",
        "    aplica mutação na população\n",
        "```"
      ]
    },
    {
      "cell_type": "markdown",
      "metadata": {
        "id": "Xj_iqfxnbNL0"
      },
      "source": [
        "# Representation"
      ]
    },
    {
      "cell_type": "code",
      "metadata": {
        "id": "JQ1R6bY_Ecgy"
      },
      "source": [
        "DAY_DELIMITER = -1"
      ],
      "execution_count": null,
      "outputs": []
    },
    {
      "cell_type": "code",
      "metadata": {
        "id": "zd9NLQoTD4tI"
      },
      "source": [
        "class Movie:\n",
        "    def __init__(self, name: str, rating: float, duration: float, genres: List[str]):\n",
        "        self.name = name\n",
        "        self.rating = float(rating)\n",
        "        self.duration = float(duration)\n",
        "        self.genres = genres\n",
        "    \n",
        "    def __repr__(self):\n",
        "        return f'{{{self.name} | {self.rating} | {self.duration}m}}'\n",
        "\n"
      ],
      "execution_count": null,
      "outputs": []
    },
    {
      "cell_type": "code",
      "metadata": {
        "id": "mAz5eyHfhVCf"
      },
      "source": [
        "Chromossome = List[int]"
      ],
      "execution_count": null,
      "outputs": []
    },
    {
      "cell_type": "code",
      "metadata": {
        "id": "GHSYNb28EjP-"
      },
      "source": [
        "movies = []\n",
        "index_precedence = []\n",
        "with open('movies.csv', 'r') as file:\n",
        "    movies = list(map(lambda line: Movie(line[0], line[3], line[4], [line[5], line[6]]), \n",
        "                      list(map(lambda line: line.split(','), file.readlines()[1:]))))"
      ],
      "execution_count": null,
      "outputs": []
    },
    {
      "cell_type": "markdown",
      "metadata": {
        "id": "ZML9Ver3bRK8"
      },
      "source": [
        "# Initial Population Generation"
      ]
    },
    {
      "cell_type": "code",
      "metadata": {
        "id": "wECHowlVGkOL"
      },
      "source": [
        "def generate_random_chromossome(data_size: int):\n",
        "    ns = np.array(list(range(data_size))) # [1, 2. ..., n]\n",
        "    chrom = [DAY_DELIMITER]*(2*data_size -1) # 2*n-1 => [-1, -1, -1, -1,....,-1]\n",
        "    chrom_available_pos = np.array(list(range(2*data_size -1 )))\n",
        "    np.random.shuffle(ns)\n",
        "    np.random.shuffle(chrom_available_pos)\n",
        "    while len(ns) > 0:\n",
        "        n = ns[0]\n",
        "        chrom[chrom_available_pos[0]] = n\n",
        "        chrom_available_pos = chrom_available_pos[1:]\n",
        "        ns = ns[1:]\n",
        "    return chrom\n",
        "\n",
        "def generate_random_chromossome_with_pattern(data_size: int):\n",
        "    ns = np.array(list(range(data_size)))\n",
        "    chrom = [DAY_DELIMITER]*(2*data_size -1)\n",
        "    chrom_available_pos = np.array(list(range(0, 2*data_size, 2)))\n",
        "    np.random.shuffle(ns)\n",
        "    while len(ns) > 0:\n",
        "        n = ns[0]\n",
        "        chrom[chrom_available_pos[0]] = n\n",
        "        chrom_available_pos = chrom_available_pos[1:]\n",
        "        ns = ns[1:]\n",
        "    return chrom\n",
        "\n",
        "def create_initial_population(data_size, generator, pop_size=100):\n",
        "    return list(map(lambda a: generator(data_size), range(pop_size)))"
      ],
      "execution_count": null,
      "outputs": []
    },
    {
      "cell_type": "markdown",
      "metadata": {
        "id": "8h2dhhD8bXZf"
      },
      "source": [
        "# Mutation\n",
        "\n",
        "##Inverse Mutation\n",
        "\n",
        "![WhatsApp Image 2021-10-27 at 22.40.50.jpeg](data:image/jpeg;base64,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)\n",
        "\n",
        "##Displacement Mutation\n",
        "\n",
        "![WhatsApp Image 2021-10-27 at 22.40.34.jpeg](data:image/jpeg;base64,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)"
      ]
    },
    {
      "cell_type": "code",
      "metadata": {
        "id": "cXDWfBgf_HqY"
      },
      "source": [
        "def inversion_mutation(chromossome: Chromossome, rate = 0.001):\n",
        "    chrom_len = len(chromossome)\n",
        "    randoms = np.random.rand(chrom_len)\n",
        "    for i in range(chrom_len):\n",
        "        p = randoms[i]\n",
        "        if p > (1.0 - rate):\n",
        "            p1, p2 = random.randint(0, chrom_len-1), random.randint(0, chrom_len - 1)\n",
        "            aux = chromossome[p1]\n",
        "            chromossome[p1] = chromossome[p2]\n",
        "            chromossome[p2] = aux\n",
        "            muted_ratio += 1\n",
        "    # print('Rate of mutation: '+ str(muted_ratio/chrom_len))\n",
        "    return chromossome"
      ],
      "execution_count": null,
      "outputs": []
    },
    {
      "cell_type": "code",
      "metadata": {
        "id": "zRNYe1CVjsU_"
      },
      "source": [
        "def displacement_mutation(chromossome: Chromossome, rate= 0.002):\n",
        "    chrom_len = len(chromossome)\n",
        "    if random.random() > (1.0 - rate):\n",
        "        cuts = np.random.randint(0, chrom_len, size=2)\n",
        "        cuts[1] = cuts[0] + 1\n",
        "        cuts = np.sort(cuts)\n",
        "        cutted = chromossome[cuts[0]:cuts[1]]\n",
        "        one = np.concatenate((chromossome[0:cuts[0]], chromossome[cuts[1]:]), axis=None)\n",
        "        insert_point = np.random.randint(0, len(one), size=1)[0]\n",
        "        # print(f\"{cuts}\\t {cutted}\\t{one}\\t{insert_point}\")\n",
        "        chromossome =  np.concatenate((one[0:insert_point], cutted, one[insert_point:]), axis=None)\n",
        "        chromossome = np.int8(chromossome)\n",
        "    return chromossome"
      ],
      "execution_count": null,
      "outputs": []
    },
    {
      "cell_type": "markdown",
      "metadata": {
        "id": "LwhGwUoqLLSl"
      },
      "source": [
        "## Displacement Mutation\n",
        "[1, 2, 3, 4, 5]\n",
        "\n",
        "Posicao 3 => 3\n",
        "\n",
        "Ela vai 5\n",
        "\n",
        "[1, 2, 4, 5, 3]\n",
        "\n",
        "[1, 2, 3, -1, 5, -1, 6]\n",
        "\n",
        "Posicao 2 => 5\n",
        "\n",
        "[1, 3, -1, 2, 5, -1, 6]"
      ]
    },
    {
      "cell_type": "code",
      "metadata": {
        "id": "9iq4nqTh9ujW",
        "colab": {
          "base_uri": "https://localhost:8080/"
        },
        "outputId": "5fa34d8f-af6c-4c37-9a28-c4dcb7effd30"
      },
      "source": [
        "pop = np.array(create_initial_population(10, generate_random_chromossome_with_pattern, 10))\n",
        "print(pop[0])\n",
        "print(displacement_mutation(pop[0], 1))"
      ],
      "execution_count": null,
      "outputs": [
        {
          "output_type": "stream",
          "name": "stdout",
          "text": [
            "[ 4 -1  8 -1  3 -1  7 -1  0 -1  5 -1  1 -1  6 -1  2 -1  9]\n",
            "[ 4 -1  8 -1  3 -1 -1  7 -1  0 -1  5 -1  1  6 -1  2 -1  9]\n"
          ]
        }
      ]
    },
    {
      "cell_type": "markdown",
      "metadata": {
        "id": "9I2QkOSobc-v"
      },
      "source": [
        "# Chromosome Threatment / Decoding"
      ]
    },
    {
      "cell_type": "code",
      "metadata": {
        "id": "kT38qBscOgZD"
      },
      "source": [
        "def treat_chromossome(chrom):\n",
        "    init = False\n",
        "    groups = []\n",
        "    current_group = []\n",
        "    for gene in chrom:\n",
        "        if gene == DAY_DELIMITER:\n",
        "            if len(current_group) > 0:\n",
        "                groups.append(current_group)\n",
        "            current_group = []\n",
        "        else:\n",
        "            current_group.append(gene)\n",
        "    \n",
        "    if len(current_group) > 0:\n",
        "        groups.append(current_group)\n",
        "    return groups\n",
        "            "
      ],
      "execution_count": null,
      "outputs": []
    },
    {
      "cell_type": "markdown",
      "metadata": {
        "id": "LOKHRxQQbgTk"
      },
      "source": [
        "# Evaluation"
      ]
    },
    {
      "cell_type": "code",
      "metadata": {
        "id": "UmsFg04Nws5f"
      },
      "source": [
        "# def apply_order_restriction(movies_per_day: [][]):\n",
        "#     order = [[34, 11, False, True]] # Ordem, se já apareceu, se é pra executa\n",
        "#     for i in range(len(movies_per_day):\n",
        "#         restrictions_to_apply = list(filter(lambda a: a[3], order)\n",
        "#         for restriction in restrictions_to_apply:\n",
        "#             if any([m == restriction[0] for m in movies_per_day[i]]):\n",
        "#                 restriction[3] = False\n",
        "#             elif any([m == restriction[0] for m in movies_per_day[i]]):\n",
        "#                 other_movie = restriction[1]\n",
        "#                 other_group_index = list(filter(lambda day: any([other_movie == m[1] for m in day]), enumerate(movies_per_day)))[0][0]\n",
        "#                 aux = movies_per_day[i]\n",
        "#                 movies_per_day[i] = movies_per_day[other_group_index]\n",
        "#                 movies_per_day[other_group_index] = aux\n",
        "#                 restriction[3] = False"
      ],
      "execution_count": null,
      "outputs": []
    },
    {
      "cell_type": "code",
      "metadata": {
        "id": "SY5yCDl8cN7p"
      },
      "source": [
        "def eval(chrom: Chromossome) -> float:\n",
        "    e = -1\n",
        "    movies_per_days = treat_chromossome(chrom)\n",
        "    # apply_order_restriction(movies_per_day)\n",
        "    per_day_sum  = [reduce(lambda x, x1: (x[0]*(movies[x1].rating), movies[x1].duration + x[1]), day, (1, 0)) for day in movies_per_days] # retorna [(1*Rating*Rating, Duração + Duraçao) dos filmes do dia]\n",
        "    all_day_less_240 = all([x[1] <= 240 for x in per_day_sum])\n",
        "    \n",
        "    return sum([x[0] for x in per_day_sum]) if all_day_less_240 else -1\n",
        "\n",
        "def eval_population(pop: List[Chromossome]):\n",
        "    evals = []\n",
        "    max_ = [0, 0]\n",
        "    worst1 = [0, 10000000000]\n",
        "    worst2 = [0, 10000000000]\n",
        "    for i in range(len(pop)):\n",
        "        e = eval(pop[i])\n",
        "        if e > max_[1]:\n",
        "            max_ = [i, e]\n",
        "        if e < worst1[1]:\n",
        "            worst1 = [i, e]\n",
        "        elif e < worst2[1]:\n",
        "            worst2 = [i, e]\n",
        "        evals.append(e)\n",
        "    return evals, max_[0], worst1[0], worst2[0]"
      ],
      "execution_count": null,
      "outputs": []
    },
    {
      "cell_type": "code",
      "metadata": {
        "id": "BJFGA5ZKJBMa",
        "colab": {
          "base_uri": "https://localhost:8080/"
        },
        "outputId": "e3c306df-bc5d-4564-cfab-78de223b2b16"
      },
      "source": [
        "pop = create_initial_population(len(movies), generate_random_chromossome_with_pattern)\n",
        "print(pop[0:3])\n",
        "print(treat_chromossome(pop[0]))\n",
        "print(treat_chromossome(pop[1])) \n",
        "eval(pop[0]), eval(pop[1])"
      ],
      "execution_count": null,
      "outputs": [
        {
          "output_type": "stream",
          "name": "stdout",
          "text": [
            "[[92, -1, 34, -1, 40, -1, 86, -1, 32, -1, 81, -1, 69, -1, 70, -1, 18, -1, 59, -1, 90, -1, 56, -1, 38, -1, 22, -1, 35, -1, 65, -1, 31, -1, 10, -1, 49, -1, 48, -1, 72, -1, 89, -1, 15, -1, 79, -1, 11, -1, 42, -1, 53, -1, 62, -1, 17, -1, 8, -1, 55, -1, 73, -1, 84, -1, 27, -1, 47, -1, 75, -1, 25, -1, 39, -1, 54, -1, 61, -1, 41, -1, 88, -1, 66, -1, 16, -1, 0, -1, 21, -1, 51, -1, 77, -1, 74, -1, 7, -1, 82, -1, 58, -1, 71, -1, 50, -1, 6, -1, 12, -1, 24, -1, 45, -1, 43, -1, 64, -1, 19, -1, 13, -1, 91, -1, 1, -1, 37, -1, 80, -1, 36, -1, 4, -1, 20, -1, 52, -1, 78, -1, 23, -1, 85, -1, 67, -1, 9, -1, 30, -1, 33, -1, 63, -1, 3, -1, 28, -1, 76, -1, 5, -1, 83, -1, 26, -1, 68, -1, 14, -1, 2, -1, 44, -1, 57, -1, 60, -1, 46, -1, 87, -1, 29], [19, -1, 30, -1, 8, -1, 20, -1, 63, -1, 79, -1, 39, -1, 0, -1, 37, -1, 69, -1, 55, -1, 25, -1, 15, -1, 23, -1, 12, -1, 90, -1, 83, -1, 89, -1, 45, -1, 33, -1, 51, -1, 91, -1, 78, -1, 32, -1, 74, -1, 72, -1, 57, -1, 82, -1, 35, -1, 1, -1, 28, -1, 60, -1, 18, -1, 22, -1, 3, -1, 84, -1, 2, -1, 11, -1, 58, -1, 44, -1, 70, -1, 17, -1, 10, -1, 68, -1, 92, -1, 4, -1, 31, -1, 6, -1, 67, -1, 54, -1, 61, -1, 52, -1, 9, -1, 29, -1, 81, -1, 21, -1, 34, -1, 53, -1, 41, -1, 46, -1, 26, -1, 86, -1, 75, -1, 14, -1, 71, -1, 88, -1, 73, -1, 40, -1, 42, -1, 38, -1, 7, -1, 66, -1, 16, -1, 65, -1, 87, -1, 85, -1, 47, -1, 76, -1, 64, -1, 49, -1, 56, -1, 5, -1, 27, -1, 50, -1, 36, -1, 43, -1, 13, -1, 24, -1, 48, -1, 59, -1, 80, -1, 77, -1, 62], [21, -1, 43, -1, 19, -1, 6, -1, 35, -1, 26, -1, 91, -1, 5, -1, 7, -1, 14, -1, 84, -1, 11, -1, 44, -1, 77, -1, 79, -1, 55, -1, 12, -1, 41, -1, 65, -1, 23, -1, 10, -1, 8, -1, 32, -1, 1, -1, 71, -1, 39, -1, 47, -1, 40, -1, 81, -1, 90, -1, 83, -1, 87, -1, 9, -1, 80, -1, 74, -1, 63, -1, 18, -1, 72, -1, 20, -1, 59, -1, 67, -1, 70, -1, 31, -1, 57, -1, 27, -1, 15, -1, 51, -1, 66, -1, 37, -1, 73, -1, 54, -1, 53, -1, 3, -1, 89, -1, 50, -1, 85, -1, 82, -1, 92, -1, 64, -1, 29, -1, 75, -1, 60, -1, 48, -1, 58, -1, 61, -1, 30, -1, 38, -1, 78, -1, 25, -1, 76, -1, 46, -1, 34, -1, 52, -1, 49, -1, 45, -1, 0, -1, 56, -1, 62, -1, 13, -1, 69, -1, 28, -1, 36, -1, 33, -1, 88, -1, 2, -1, 42, -1, 16, -1, 17, -1, 4, -1, 86, -1, 22, -1, 68, -1, 24]]\n",
            "[[92], [34], [40], [86], [32], [81], [69], [70], [18], [59], [90], [56], [38], [22], [35], [65], [31], [10], [49], [48], [72], [89], [15], [79], [11], [42], [53], [62], [17], [8], [55], [73], [84], [27], [47], [75], [25], [39], [54], [61], [41], [88], [66], [16], [0], [21], [51], [77], [74], [7], [82], [58], [71], [50], [6], [12], [24], [45], [43], [64], [19], [13], [91], [1], [37], [80], [36], [4], [20], [52], [78], [23], [85], [67], [9], [30], [33], [63], [3], [28], [76], [5], [83], [26], [68], [14], [2], [44], [57], [60], [46], [87], [29]]\n",
            "[[19], [30], [8], [20], [63], [79], [39], [0], [37], [69], [55], [25], [15], [23], [12], [90], [83], [89], [45], [33], [51], [91], [78], [32], [74], [72], [57], [82], [35], [1], [28], [60], [18], [22], [3], [84], [2], [11], [58], [44], [70], [17], [10], [68], [92], [4], [31], [6], [67], [54], [61], [52], [9], [29], [81], [21], [34], [53], [41], [46], [26], [86], [75], [14], [71], [88], [73], [40], [42], [38], [7], [66], [16], [65], [87], [85], [47], [76], [64], [49], [56], [5], [27], [50], [36], [43], [13], [24], [48], [59], [80], [77], [62]]\n"
          ]
        },
        {
          "output_type": "execute_result",
          "data": {
            "text/plain": [
              "(731.5000000000002, 731.4999999999997)"
            ]
          },
          "metadata": {},
          "execution_count": 18
        }
      ]
    },
    {
      "cell_type": "markdown",
      "metadata": {
        "id": "GOLy-ox6bjZi"
      },
      "source": [
        "# Cross-overs"
      ]
    },
    {
      "cell_type": "code",
      "metadata": {
        "id": "WfeTRHGRZNGB"
      },
      "source": [
        "def get_pair_pointcuts(high: int):\n",
        "    while True:\n",
        "        pc1 = np.random.randint(low=1, high=high, dtype=int)\n",
        "        pc2 = np.random.randint(low=1, high=high, dtype=int)\n",
        "        if pc1 != pc2: break\n",
        "\n",
        "    if pc2 > pc1:\n",
        "        return pc1, pc2\n",
        "    else:\n",
        "        return pc2, pc1\n",
        "\n",
        "\n",
        "def ox1(first: np.array, second: np.array):\n",
        "    size = len(first)\n",
        "    off1 = np.full(size, -1)\n",
        "    off2 = np.full(size, -1)\n",
        "    pc1, pc2 = get_pair_pointcuts(size)\n",
        "    fillOff1 = {}\n",
        "    fillOff2 = {}\n",
        "\n",
        "    i = pc1\n",
        "    j = 0\n",
        "    p1 = first[pc1:pc2]\n",
        "    p2 = second[pc1:pc2]\n",
        "    while i < pc2:\n",
        "        a = p1[j]\n",
        "        b = p2[j]\n",
        "        off1[i] = a\n",
        "        fillOff1[a] = True\n",
        "        off2[i] = b\n",
        "        fillOff2[b] = True\n",
        "        i = i + 1\n",
        "        j = j + 1\n",
        "\n",
        "    i = pc2\n",
        "    j = pc2\n",
        "    k = pc2\n",
        "    while i < size:\n",
        "        a = second[i]\n",
        "        b = first[i]\n",
        "\n",
        "        if a not in fillOff1:\n",
        "            off1[j] = a\n",
        "            j = j + 1\n",
        "\n",
        "        if b not in fillOff2:\n",
        "            off2[k] = b\n",
        "            k = k + 1\n",
        "        i = i + 1\n",
        "\n",
        "    i = 0\n",
        "    while i < pc2:\n",
        "        if j == size: j = 0\n",
        "        if k == size: k = 0\n",
        "        a = second[i]\n",
        "        b = first[i]\n",
        "\n",
        "        if a not in fillOff1:\n",
        "            off1[j] = a\n",
        "            j = j + 1\n",
        "        if b not in fillOff2:\n",
        "            off2[k] = b\n",
        "            k = k + 1\n",
        "        i = i + 1\n",
        "\n",
        "    return off1, off2"
      ],
      "execution_count": null,
      "outputs": []
    },
    {
      "cell_type": "markdown",
      "metadata": {
        "id": "lHUrsvlPs_bO"
      },
      "source": [
        "![singleCrossover-2.png](data:image/png;base64,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)"
      ]
    },
    {
      "cell_type": "code",
      "metadata": {
        "id": "4aexdVBFbtov"
      },
      "source": [
        "def single_point_crossover(parents: List[Chromossome]):\n",
        "    cut_point = random.randint(0, len(pop[0]))\n",
        "    return np.array(parents[0][0:cut_point] + parents[1][cut_point:], parents[1][0:cut_point] + parents[0][cut_point:])"
      ],
      "execution_count": null,
      "outputs": []
    },
    {
      "cell_type": "markdown",
      "metadata": {
        "id": "aURh7CfGtENI"
      },
      "source": [
        "![Screenshot-20211029084712-399x141.png](data:image/png;base64,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)"
      ]
    },
    {
      "cell_type": "code",
      "metadata": {
        "id": "4HWfthBDbuZF"
      },
      "source": [
        "def ox1_crossover(parents: List[Chromossome]) -> List[Chromossome]:\n",
        "    first_parent, second_parent = parents[0], parents[1]\n",
        "    off1, off2 = ox1(first_parent, second_parent)\n",
        "    return np.array([off1, off2])"
      ],
      "execution_count": null,
      "outputs": []
    },
    {
      "cell_type": "code",
      "metadata": {
        "id": "XvIYayWXbxM5"
      },
      "source": [
        "def cross_over(pop: List[Chromossome], evals, max_: float, cross_function = single_point_crossover, show_evals=False):\n",
        "    parents_count = 2\n",
        "    pop_size = len(pop)\n",
        "    probs = [ abs(e / max_) for e in evals]\n",
        "    \n",
        "    parent_positions = np.random.choice(pop_size, parents_count, probs)\n",
        "    parents = [pop[parent] for parent in parent_positions]\n",
        "    if show_evals:\n",
        "        print(f\"Eval Parents:{[evals[i] for i in parent_positions]}\")\n",
        "\n",
        "\n",
        "    offsprings = []\n",
        "\n",
        "    while len(offsprings) < 2:\n",
        "        offspring1, offspring2 = cross_function(parents)\n",
        "        if eval(offspring1) >= 0:\n",
        "            offsprings.append(offspring1)\n",
        "\n",
        "        if eval(offspring2) >= 0:\n",
        "            offsprings.append(offspring2)\n",
        "\n",
        "    if show_evals:\n",
        "        print(\"Offspring Eval: \", eval(offsprings[0]), eval(offsprings[1]))\n",
        "    return offsprings[0], offsprings[1]"
      ],
      "execution_count": null,
      "outputs": []
    },
    {
      "cell_type": "markdown",
      "metadata": {
        "id": "gi9iP1ci426O"
      },
      "source": [
        "# Invalid Threating"
      ]
    },
    {
      "cell_type": "code",
      "metadata": {
        "id": "KC7OjSl4hb41"
      },
      "source": [
        "def replace_invalid(pop: List[Chromossome]):\n",
        "    evals, _, _, _ = eval_population(pop)\n",
        "    invalid_indexes = list(map(lambda a: a[0], list(filter(lambda a: a[1] == -1, list(enumerate(evals))))))\n",
        "    while len(invalid_indexes) > 0:\n",
        "        off_inc = 0\n",
        "        offs = []\n",
        "        while off_inc < len(invalid_indexes):\n",
        "            off1, off2 = cross_over(pop, evals, best_eval, ox1_crossover, show_evals=True)\n",
        "            offs.append(off1)\n",
        "            offs.append(off2)\n",
        "            off_inc += 2\n",
        "\n",
        "        for i in invalid_indexes:\n",
        "            pop[i] = offs[off_inc - 1]\n",
        "            off_inc -= 1\n",
        "        evals, _, _, _ = eval_population(pop)\n",
        "        invalid_indexes = list(map(lambda a: a[0], list(filter(lambda a: a[1] == -1, list(enumerate(evals))))))"
      ],
      "execution_count": null,
      "outputs": []
    },
    {
      "cell_type": "markdown",
      "metadata": {
        "id": "eba3NTtQsFZy"
      },
      "source": [
        "# Run"
      ]
    },
    {
      "cell_type": "code",
      "metadata": {
        "id": "62tjB6JQg990",
        "colab": {
          "base_uri": "https://localhost:8080/",
          "height": 512
        },
        "outputId": "bb68b1be-1d42-4162-963a-1a037b21872b"
      },
      "source": [
        "MAX_EPOCHS = 1e6 # @param {type: \"number\"}\n",
        "POP_SIZE=100 # @param {type: \"number\"}\n",
        "epoch = 0\n",
        "n_bests = [[-1, -1]]\n",
        " \n",
        "pop = create_initial_population(len(movies), generate_random_chromossome_with_pattern, pop_size=POP_SIZE)\n",
        "\n",
        "last_better=0\n",
        "\n",
        "while epoch < MAX_EPOCHS or last_better < 1000:\n",
        "    # Evaluate\n",
        "    evals, best, worst1, worst2 = eval_population(pop)\n",
        "\n",
        "    best_eval = evals[best]\n",
        "    best_chrom = pop[best]\n",
        "    \n",
        "    # Is someone better ?\n",
        "    if best_eval  > n_bests[-1][0]:\n",
        "        print(best_eval, n_bests[-1][0])\n",
        "        n_bests.append([best_eval, np.array(best_chrom)])\n",
        "        last_better += 0\n",
        "    \n",
        "    # Generate the children\n",
        "    off1, off2 = cross_over(pop, evals, best_eval, ox1_crossover)\n",
        "    pop[worst1] = off1\n",
        "    pop[worst2] = off2\n",
        "    \n",
        "    # Replace Invalid Configurations\n",
        "    replace_invalid(pop)\n",
        "\n",
        "    # Apply Mutation\n",
        "    for i in range(len(pop)):\n",
        "        pop[i] = displacement_mutation(pop[i], 0.001)\n",
        "\n",
        "    epoch+=1\n",
        "\n",
        "    if epoch % 10000 == 0:\n",
        "        print(epoch)\n",
        "    last_better += 1"
      ],
      "execution_count": null,
      "outputs": [
        {
          "output_type": "stream",
          "name": "stdout",
          "text": [
            "731.5000000000005 -1\n",
            "775.3799999999999 731.5000000000005\n",
            "775.8600000000005 775.3799999999999\n",
            "825.4799999999999 775.8600000000005\n",
            "832.3 825.4799999999999\n",
            "832.4199999999998 832.3\n",
            "869.7199999999998 832.4199999999998\n"
          ]
        },
        {
          "output_type": "error",
          "ename": "KeyboardInterrupt",
          "evalue": "ignored",
          "traceback": [
            "\u001b[0;31m---------------------------------------------------------------------------\u001b[0m",
            "\u001b[0;31mKeyboardInterrupt\u001b[0m                         Traceback (most recent call last)",
            "\u001b[0;32m<ipython-input-24-75a1a59705c5>\u001b[0m in \u001b[0;36m<module>\u001b[0;34m()\u001b[0m\n\u001b[1;32m     22\u001b[0m \u001b[0;34m\u001b[0m\u001b[0m\n\u001b[1;32m     23\u001b[0m     \u001b[0;31m# Generate the children\u001b[0m\u001b[0;34m\u001b[0m\u001b[0;34m\u001b[0m\u001b[0;34m\u001b[0m\u001b[0m\n\u001b[0;32m---> 24\u001b[0;31m     \u001b[0moff1\u001b[0m\u001b[0;34m,\u001b[0m \u001b[0moff2\u001b[0m \u001b[0;34m=\u001b[0m \u001b[0mcross_over\u001b[0m\u001b[0;34m(\u001b[0m\u001b[0mpop\u001b[0m\u001b[0;34m,\u001b[0m \u001b[0mevals\u001b[0m\u001b[0;34m,\u001b[0m \u001b[0mbest_eval\u001b[0m\u001b[0;34m,\u001b[0m \u001b[0mox1_crossover\u001b[0m\u001b[0;34m)\u001b[0m\u001b[0;34m\u001b[0m\u001b[0;34m\u001b[0m\u001b[0m\n\u001b[0m\u001b[1;32m     25\u001b[0m     \u001b[0mpop\u001b[0m\u001b[0;34m[\u001b[0m\u001b[0mworst1\u001b[0m\u001b[0;34m]\u001b[0m \u001b[0;34m=\u001b[0m \u001b[0moff1\u001b[0m\u001b[0;34m\u001b[0m\u001b[0;34m\u001b[0m\u001b[0m\n\u001b[1;32m     26\u001b[0m     \u001b[0mpop\u001b[0m\u001b[0;34m[\u001b[0m\u001b[0mworst2\u001b[0m\u001b[0;34m]\u001b[0m \u001b[0;34m=\u001b[0m \u001b[0moff2\u001b[0m\u001b[0;34m\u001b[0m\u001b[0;34m\u001b[0m\u001b[0m\n",
            "\u001b[0;32m<ipython-input-22-37c94b927848>\u001b[0m in \u001b[0;36mcross_over\u001b[0;34m(pop, evals, max_, cross_function, show_evals)\u001b[0m\n\u001b[1;32m     13\u001b[0m \u001b[0;34m\u001b[0m\u001b[0m\n\u001b[1;32m     14\u001b[0m     \u001b[0;32mwhile\u001b[0m \u001b[0mlen\u001b[0m\u001b[0;34m(\u001b[0m\u001b[0moffsprings\u001b[0m\u001b[0;34m)\u001b[0m \u001b[0;34m<\u001b[0m \u001b[0;36m2\u001b[0m\u001b[0;34m:\u001b[0m\u001b[0;34m\u001b[0m\u001b[0;34m\u001b[0m\u001b[0m\n\u001b[0;32m---> 15\u001b[0;31m         \u001b[0moffspring1\u001b[0m\u001b[0;34m,\u001b[0m \u001b[0moffspring2\u001b[0m \u001b[0;34m=\u001b[0m \u001b[0mcross_function\u001b[0m\u001b[0;34m(\u001b[0m\u001b[0mparents\u001b[0m\u001b[0;34m)\u001b[0m\u001b[0;34m\u001b[0m\u001b[0;34m\u001b[0m\u001b[0m\n\u001b[0m\u001b[1;32m     16\u001b[0m         \u001b[0;32mif\u001b[0m \u001b[0meval\u001b[0m\u001b[0;34m(\u001b[0m\u001b[0moffspring1\u001b[0m\u001b[0;34m)\u001b[0m \u001b[0;34m>=\u001b[0m \u001b[0;36m0\u001b[0m\u001b[0;34m:\u001b[0m\u001b[0;34m\u001b[0m\u001b[0;34m\u001b[0m\u001b[0m\n\u001b[1;32m     17\u001b[0m             \u001b[0moffsprings\u001b[0m\u001b[0;34m.\u001b[0m\u001b[0mappend\u001b[0m\u001b[0;34m(\u001b[0m\u001b[0moffspring1\u001b[0m\u001b[0;34m)\u001b[0m\u001b[0;34m\u001b[0m\u001b[0;34m\u001b[0m\u001b[0m\n",
            "\u001b[0;32m<ipython-input-21-38a7a2dc9477>\u001b[0m in \u001b[0;36mox1_crossover\u001b[0;34m(parents)\u001b[0m\n\u001b[1;32m      1\u001b[0m \u001b[0;32mdef\u001b[0m \u001b[0mox1_crossover\u001b[0m\u001b[0;34m(\u001b[0m\u001b[0mparents\u001b[0m\u001b[0;34m:\u001b[0m \u001b[0mList\u001b[0m\u001b[0;34m[\u001b[0m\u001b[0mChromossome\u001b[0m\u001b[0;34m]\u001b[0m\u001b[0;34m)\u001b[0m \u001b[0;34m->\u001b[0m \u001b[0mList\u001b[0m\u001b[0;34m[\u001b[0m\u001b[0mChromossome\u001b[0m\u001b[0;34m]\u001b[0m\u001b[0;34m:\u001b[0m\u001b[0;34m\u001b[0m\u001b[0;34m\u001b[0m\u001b[0m\n\u001b[1;32m      2\u001b[0m     \u001b[0mfirst_parent\u001b[0m\u001b[0;34m,\u001b[0m \u001b[0msecond_parent\u001b[0m \u001b[0;34m=\u001b[0m \u001b[0mparents\u001b[0m\u001b[0;34m[\u001b[0m\u001b[0;36m0\u001b[0m\u001b[0;34m]\u001b[0m\u001b[0;34m,\u001b[0m \u001b[0mparents\u001b[0m\u001b[0;34m[\u001b[0m\u001b[0;36m1\u001b[0m\u001b[0;34m]\u001b[0m\u001b[0;34m\u001b[0m\u001b[0;34m\u001b[0m\u001b[0m\n\u001b[0;32m----> 3\u001b[0;31m     \u001b[0moff1\u001b[0m\u001b[0;34m,\u001b[0m \u001b[0moff2\u001b[0m \u001b[0;34m=\u001b[0m \u001b[0mox1\u001b[0m\u001b[0;34m(\u001b[0m\u001b[0mfirst_parent\u001b[0m\u001b[0;34m,\u001b[0m \u001b[0msecond_parent\u001b[0m\u001b[0;34m)\u001b[0m\u001b[0;34m\u001b[0m\u001b[0;34m\u001b[0m\u001b[0m\n\u001b[0m\u001b[1;32m      4\u001b[0m     \u001b[0;32mreturn\u001b[0m \u001b[0mnp\u001b[0m\u001b[0;34m.\u001b[0m\u001b[0marray\u001b[0m\u001b[0;34m(\u001b[0m\u001b[0;34m[\u001b[0m\u001b[0moff1\u001b[0m\u001b[0;34m,\u001b[0m \u001b[0moff2\u001b[0m\u001b[0;34m]\u001b[0m\u001b[0;34m)\u001b[0m\u001b[0;34m\u001b[0m\u001b[0;34m\u001b[0m\u001b[0m\n",
            "\u001b[0;32m<ipython-input-19-2f0ce143ecdb>\u001b[0m in \u001b[0;36mox1\u001b[0;34m(first, second)\u001b[0m\n\u001b[1;32m     59\u001b[0m             \u001b[0moff1\u001b[0m\u001b[0;34m[\u001b[0m\u001b[0mj\u001b[0m\u001b[0;34m]\u001b[0m \u001b[0;34m=\u001b[0m \u001b[0ma\u001b[0m\u001b[0;34m\u001b[0m\u001b[0;34m\u001b[0m\u001b[0m\n\u001b[1;32m     60\u001b[0m             \u001b[0mj\u001b[0m \u001b[0;34m=\u001b[0m \u001b[0mj\u001b[0m \u001b[0;34m+\u001b[0m \u001b[0;36m1\u001b[0m\u001b[0;34m\u001b[0m\u001b[0;34m\u001b[0m\u001b[0m\n\u001b[0;32m---> 61\u001b[0;31m         \u001b[0;32mif\u001b[0m \u001b[0mb\u001b[0m \u001b[0;32mnot\u001b[0m \u001b[0;32min\u001b[0m \u001b[0mfillOff2\u001b[0m\u001b[0;34m:\u001b[0m\u001b[0;34m\u001b[0m\u001b[0;34m\u001b[0m\u001b[0m\n\u001b[0m\u001b[1;32m     62\u001b[0m             \u001b[0moff2\u001b[0m\u001b[0;34m[\u001b[0m\u001b[0mk\u001b[0m\u001b[0;34m]\u001b[0m \u001b[0;34m=\u001b[0m \u001b[0mb\u001b[0m\u001b[0;34m\u001b[0m\u001b[0;34m\u001b[0m\u001b[0m\n\u001b[1;32m     63\u001b[0m             \u001b[0mk\u001b[0m \u001b[0;34m=\u001b[0m \u001b[0mk\u001b[0m \u001b[0;34m+\u001b[0m \u001b[0;36m1\u001b[0m\u001b[0;34m\u001b[0m\u001b[0;34m\u001b[0m\u001b[0m\n",
            "\u001b[0;31mKeyboardInterrupt\u001b[0m: "
          ]
        }
      ]
    },
    {
      "cell_type": "markdown",
      "metadata": {
        "id": "zLRPVQQcdO12"
      },
      "source": [
        "# Out"
      ]
    },
    {
      "cell_type": "code",
      "metadata": {
        "id": "I5zMp5Ebh2Qf"
      },
      "source": [
        "print(n_bests[-1])"
      ],
      "execution_count": null,
      "outputs": []
    },
    {
      "cell_type": "code",
      "metadata": {
        "id": "N5EDoSv4708P"
      },
      "source": [
        "groups = treat_chromossome(n_bests[-1][1])"
      ],
      "execution_count": null,
      "outputs": []
    },
    {
      "cell_type": "code",
      "metadata": {
        "id": "uwwmvAZ-IVMM"
      },
      "source": [
        "days = []\n",
        "for i in range(len(groups)):\n",
        "    movies_name, each_duration, sum_duration, rating, sum_rate = [], [], 0, [], 0\n",
        "    for index in groups[i]:\n",
        "        movies_name.append(movies[index].name)\n",
        "        each_duration.append(str(movies[index].duration))\n",
        "        sum_duration +=movies[index].duration\n",
        "        rating.append(str(movies[index].rating))\n",
        "        sum_rate +=movies[index].rating\n",
        "    days.append([i+1,', '.join(movies_name), ', '.join(each_duration), sum_duration, ', '.join(rating), sum_rate])"
      ],
      "execution_count": null,
      "outputs": []
    },
    {
      "cell_type": "code",
      "metadata": {
        "id": "IQR0aQu0itHi"
      },
      "source": [
        "days = sorted(days, key=lambda a: a[-1], reverse=True)"
      ],
      "execution_count": null,
      "outputs": []
    },
    {
      "cell_type": "code",
      "metadata": {
        "id": "1wGHgz05gM23"
      },
      "source": [
        "print(tabulate(days,headers=['Dia', \"Filmes\", 'Duração', 'Duração Acumulada', 'Rating', 'Rating Acumulado'],tablefmt=\"grid\"))"
      ],
      "execution_count": null,
      "outputs": []
    },
    {
      "cell_type": "markdown",
      "metadata": {
        "id": "owCGx_8dqkni"
      },
      "source": [
        "## Duration Relation"
      ]
    },
    {
      "cell_type": "code",
      "metadata": {
        "id": "bSiGJKE3qpam"
      },
      "source": [
        "time_days = sorted(days, key=lambda a: a[-3], reverse=True)\n",
        "print(tabulate(time_days,headers=['Dia', \"Filmes\", 'Duração', 'Duração Acumulada', 'Rating', 'Rating Acumulado'],tablefmt=\"grid\"))"
      ],
      "execution_count": null,
      "outputs": []
    }
  ]
}